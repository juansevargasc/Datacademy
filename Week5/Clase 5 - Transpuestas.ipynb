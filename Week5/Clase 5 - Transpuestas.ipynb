{
 "cells": [
  {
   "cell_type": "code",
   "execution_count": 1,
   "id": "fbbd94bd",
   "metadata": {},
   "outputs": [],
   "source": [
    "import numpy as np"
   ]
  },
  {
   "cell_type": "code",
   "execution_count": 2,
   "id": "cf9b60a2",
   "metadata": {},
   "outputs": [],
   "source": [
    "escalar = 5.679\n",
    "vector = np.array([3,4,5,6])\n",
    "matriz = np.array([[1,2],[3,4],[5,6]])\n",
    "tensor = np.array([\n",
    "    [[1,2,3,30],[4,5,6,31],[7,8,9,32]],\n",
    "    [[11,12,13,33],[14,15,16,34],[17,18,19,35]],\n",
    "    [[21,22,23,36],[24,25,26,37],[27,28,29,38]],\n",
    "])"
   ]
  },
  {
   "cell_type": "markdown",
   "id": "999f2d7c",
   "metadata": {},
   "source": [
    "El escalar no tiene transpuesta"
   ]
  },
  {
   "cell_type": "code",
   "execution_count": 3,
   "id": "1b580da4",
   "metadata": {},
   "outputs": [
    {
     "ename": "AttributeError",
     "evalue": "'float' object has no attribute 'T'",
     "output_type": "error",
     "traceback": [
      "\u001b[0;31m---------------------------------------------------------------------------\u001b[0m",
      "\u001b[0;31mAttributeError\u001b[0m                            Traceback (most recent call last)",
      "\u001b[0;32m<ipython-input-3-4a23f0f136f1>\u001b[0m in \u001b[0;36m<module>\u001b[0;34m\u001b[0m\n\u001b[0;32m----> 1\u001b[0;31m \u001b[0mescalar_t\u001b[0m \u001b[0;34m=\u001b[0m \u001b[0mescalar\u001b[0m\u001b[0;34m.\u001b[0m\u001b[0mT\u001b[0m\u001b[0;34m\u001b[0m\u001b[0;34m\u001b[0m\u001b[0m\n\u001b[0m",
      "\u001b[0;31mAttributeError\u001b[0m: 'float' object has no attribute 'T'"
     ]
    }
   ],
   "source": [
    "escalar_t = escalar.T"
   ]
  },
  {
   "cell_type": "code",
   "execution_count": 4,
   "id": "37502a06",
   "metadata": {},
   "outputs": [
    {
     "name": "stdout",
     "output_type": "stream",
     "text": [
      "[3 4 5 6]\n"
     ]
    }
   ],
   "source": [
    "vector_t = vector.T\n",
    "print(vector_t)"
   ]
  },
  {
   "cell_type": "markdown",
   "id": "b417ff9e",
   "metadata": {},
   "source": [
    "## Matriz transpuesta"
   ]
  },
  {
   "cell_type": "code",
   "execution_count": 6,
   "id": "b770ebca",
   "metadata": {},
   "outputs": [
    {
     "data": {
      "text/plain": [
       "array([[1, 2],\n",
       "       [3, 4],\n",
       "       [5, 6]])"
      ]
     },
     "execution_count": 6,
     "metadata": {},
     "output_type": "execute_result"
    }
   ],
   "source": [
    "matriz"
   ]
  },
  {
   "cell_type": "code",
   "execution_count": 5,
   "id": "f5d7b176",
   "metadata": {},
   "outputs": [
    {
     "data": {
      "text/plain": [
       "array([[1, 3, 5],\n",
       "       [2, 4, 6]])"
      ]
     },
     "execution_count": 5,
     "metadata": {},
     "output_type": "execute_result"
    }
   ],
   "source": [
    "matriz.T"
   ]
  },
  {
   "cell_type": "markdown",
   "id": "1535ccb1",
   "metadata": {},
   "source": [
    "## Tensor"
   ]
  },
  {
   "cell_type": "code",
   "execution_count": 8,
   "id": "13b152e1",
   "metadata": {},
   "outputs": [
    {
     "data": {
      "text/plain": [
       "array([[[ 1,  2,  3, 30],\n",
       "        [ 4,  5,  6, 31],\n",
       "        [ 7,  8,  9, 32]],\n",
       "\n",
       "       [[11, 12, 13, 33],\n",
       "        [14, 15, 16, 34],\n",
       "        [17, 18, 19, 35]],\n",
       "\n",
       "       [[21, 22, 23, 36],\n",
       "        [24, 25, 26, 37],\n",
       "        [27, 28, 29, 38]]])"
      ]
     },
     "execution_count": 8,
     "metadata": {},
     "output_type": "execute_result"
    }
   ],
   "source": [
    "tensor"
   ]
  },
  {
   "cell_type": "code",
   "execution_count": 9,
   "id": "00fbfc5a",
   "metadata": {},
   "outputs": [
    {
     "data": {
      "text/plain": [
       "array([[[ 1, 11, 21],\n",
       "        [ 4, 14, 24],\n",
       "        [ 7, 17, 27]],\n",
       "\n",
       "       [[ 2, 12, 22],\n",
       "        [ 5, 15, 25],\n",
       "        [ 8, 18, 28]],\n",
       "\n",
       "       [[ 3, 13, 23],\n",
       "        [ 6, 16, 26],\n",
       "        [ 9, 19, 29]],\n",
       "\n",
       "       [[30, 33, 36],\n",
       "        [31, 34, 37],\n",
       "        [32, 35, 38]]])"
      ]
     },
     "execution_count": 9,
     "metadata": {},
     "output_type": "execute_result"
    }
   ],
   "source": [
    "tensor.T"
   ]
  },
  {
   "cell_type": "code",
   "execution_count": null,
   "id": "6bc9fcf7",
   "metadata": {},
   "outputs": [],
   "source": []
  }
 ],
 "metadata": {
  "kernelspec": {
   "display_name": "Python 3",
   "language": "python",
   "name": "python3"
  },
  "language_info": {
   "codemirror_mode": {
    "name": "ipython",
    "version": 3
   },
   "file_extension": ".py",
   "mimetype": "text/x-python",
   "name": "python",
   "nbconvert_exporter": "python",
   "pygments_lexer": "ipython3",
   "version": "3.8.8"
  }
 },
 "nbformat": 4,
 "nbformat_minor": 5
}
